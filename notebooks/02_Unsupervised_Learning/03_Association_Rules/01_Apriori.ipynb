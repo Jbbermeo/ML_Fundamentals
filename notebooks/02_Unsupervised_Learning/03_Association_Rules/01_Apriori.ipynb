{
 "cells": [
  {
   "cell_type": "code",
   "execution_count": 1,
   "metadata": {},
   "outputs": [],
   "source": [
    "# 📦 Step 1: Import libraries\n",
    "\n",
    "import pandas as pd\n",
    "from mlxtend.preprocessing import TransactionEncoder\n",
    "from mlxtend.frequent_patterns import apriori, association_rules"
   ]
  },
  {
   "cell_type": "code",
   "execution_count": 2,
   "metadata": {},
   "outputs": [],
   "source": [
    "# 📄 Step 2: Define transactions\n",
    "\n",
    "# Example dataset: Each sublist is a transaction with items bought together\n",
    "transactions = [\n",
    "    ['milk', 'bread', 'butter'],\n",
    "    ['bread', 'diapers', 'beer', 'eggs'],\n",
    "    ['milk', 'diapers', 'beer', 'cola'],\n",
    "    ['bread', 'milk', 'diapers', 'beer'],\n",
    "    ['bread', 'milk', 'diapers', 'cola'],\n",
    "    ['milk', 'bread', 'butter'],\n",
    "    ['diapers', 'cola'],\n",
    "    ['milk', 'bread', 'butter'],\n",
    "    ['bread', 'butter', 'eggs'],\n",
    "    ['milk', 'diapers', 'bread', 'butter']\n",
    "]\n",
    "\n"
   ]
  },
  {
   "cell_type": "code",
   "execution_count": 3,
   "metadata": {},
   "outputs": [
    {
     "name": "stdout",
     "output_type": "stream",
     "text": [
      "🔍 One-hot encoded data:\n",
      "    beer  bread  butter   cola  diapers   eggs   milk\n",
      "0  False   True    True  False    False  False   True\n",
      "1   True   True   False  False     True   True  False\n",
      "2   True  False   False   True     True  False   True\n",
      "3   True   True   False  False     True  False   True\n",
      "4  False   True   False   True     True  False   True\n",
      "5  False   True    True  False    False  False   True\n",
      "6  False  False   False   True     True  False  False\n",
      "7  False   True    True  False    False  False   True\n",
      "8  False   True    True  False    False   True  False\n",
      "9  False   True    True  False     True  False   True\n"
     ]
    }
   ],
   "source": [
    "# 🧼 Step 3: Transform data\n",
    "\n",
    "# Convert transaction list into a one-hot encoded DataFrame\n",
    "te = TransactionEncoder()\n",
    "te_array = te.fit(transactions).transform(transactions)\n",
    "df = pd.DataFrame(te_array, columns=te.columns_)\n",
    "\n",
    "print(\"🔍 One-hot encoded data:\")\n",
    "print(df)"
   ]
  },
  {
   "cell_type": "code",
   "execution_count": 4,
   "metadata": {},
   "outputs": [
    {
     "name": "stdout",
     "output_type": "stream",
     "text": [
      "\n",
      "📈 Frequent itemsets (support ≥ 0.4):\n",
      "   support               itemsets\n",
      "0      0.8                (bread)\n",
      "1      0.5               (butter)\n",
      "2      0.6              (diapers)\n",
      "3      0.7                 (milk)\n",
      "4      0.5        (bread, butter)\n",
      "5      0.4       (bread, diapers)\n",
      "6      0.6          (bread, milk)\n",
      "7      0.4         (butter, milk)\n",
      "8      0.4        (milk, diapers)\n",
      "9      0.4  (bread, butter, milk)\n"
     ]
    }
   ],
   "source": [
    "# 📊 Step 4: Generate frequent itemsets\n",
    "# ----------------------------\n",
    "\n",
    "# Set a minimum support threshold (e.g., 0.4 = 40% of transactions)\n",
    "frequent_itemsets = apriori(df, min_support=0.4, use_colnames=True)\n",
    "\n",
    "print(\"\\n📈 Frequent itemsets (support ≥ 0.4):\")\n",
    "print(frequent_itemsets)"
   ]
  },
  {
   "cell_type": "code",
   "execution_count": 5,
   "metadata": {},
   "outputs": [
    {
     "name": "stdout",
     "output_type": "stream",
     "text": [
      "\n",
      "📋 Association Rules (confidence ≥ 0.6 and lift ≥ 1.0):\n",
      "        antecedents    consequents  support  confidence      lift\n",
      "0           (bread)       (butter)      0.5    0.625000  1.250000\n",
      "1          (butter)        (bread)      0.5    1.000000  1.250000\n",
      "3           (bread)         (milk)      0.6    0.750000  1.071429\n",
      "4            (milk)        (bread)      0.6    0.857143  1.071429\n",
      "5          (butter)         (milk)      0.4    0.800000  1.142857\n",
      "7   (bread, butter)         (milk)      0.4    0.800000  1.142857\n",
      "8     (bread, milk)       (butter)      0.4    0.666667  1.333333\n",
      "9    (butter, milk)        (bread)      0.4    1.000000  1.250000\n",
      "10         (butter)  (bread, milk)      0.4    0.800000  1.333333\n"
     ]
    }
   ],
   "source": [
    "# 🔗 Step 5: Generate association rules\n",
    "\n",
    "# Generate rules from frequent itemsets\n",
    "# Use confidence ≥ 0.6 and lift ≥ 1.0\n",
    "rules = association_rules(frequent_itemsets, metric=\"confidence\", min_threshold=0.6)\n",
    "rules = rules[rules['lift'] >= 1.0]\n",
    "\n",
    "print(\"\\n📋 Association Rules (confidence ≥ 0.6 and lift ≥ 1.0):\")\n",
    "print(rules[['antecedents', 'consequents', 'support', 'confidence', 'lift']])"
   ]
  },
  {
   "cell_type": "code",
   "execution_count": 6,
   "metadata": {},
   "outputs": [
    {
     "name": "stdout",
     "output_type": "stream",
     "text": [
      "\n",
      "🏆 Top rules by lift:\n",
      "        antecedents    consequents  support  confidence      lift\n",
      "10         (butter)  (bread, milk)      0.4    0.800000  1.333333\n",
      "8     (bread, milk)       (butter)      0.4    0.666667  1.333333\n",
      "0           (bread)       (butter)      0.5    0.625000  1.250000\n",
      "1          (butter)        (bread)      0.5    1.000000  1.250000\n",
      "9    (butter, milk)        (bread)      0.4    1.000000  1.250000\n",
      "5          (butter)         (milk)      0.4    0.800000  1.142857\n",
      "7   (bread, butter)         (milk)      0.4    0.800000  1.142857\n",
      "4            (milk)        (bread)      0.6    0.857143  1.071429\n",
      "3           (bread)         (milk)      0.6    0.750000  1.071429\n"
     ]
    }
   ],
   "source": [
    "# 📊 Optional: Sort by lift\n",
    "# ----------------------------\n",
    "\n",
    "rules_sorted = rules.sort_values(by='lift', ascending=False)\n",
    "\n",
    "print(\"\\n🏆 Top rules by lift:\")\n",
    "print(rules_sorted[['antecedents', 'consequents', 'support', 'confidence', 'lift']])"
   ]
  },
  {
   "cell_type": "markdown",
   "metadata": {},
   "source": [
    "# ✅ Summary\n",
    " - We prepared transactional data\n",
    " - Applied the Apriori algorithm to extract frequent itemsets\n",
    " - Generated association rules using confidence and lift thresholds\n",
    " - Interpreted meaningful patterns for decision-making (e.g., product bundling)\n"
   ]
  },
  {
   "cell_type": "markdown",
   "metadata": {},
   "source": []
  }
 ],
 "metadata": {
  "kernelspec": {
   "display_name": "Python 3",
   "language": "python",
   "name": "python3"
  },
  "language_info": {
   "codemirror_mode": {
    "name": "ipython",
    "version": 3
   },
   "file_extension": ".py",
   "mimetype": "text/x-python",
   "name": "python",
   "nbconvert_exporter": "python",
   "pygments_lexer": "ipython3",
   "version": "3.12.8"
  }
 },
 "nbformat": 4,
 "nbformat_minor": 2
}
